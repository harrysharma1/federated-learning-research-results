{
  "cells": [
    {
      "cell_type": "markdown",
      "source": [
        "# Deep Leakage from Gradient Experiment - SAP + DP\n",
        "This experiment will use the model and algorithm provided by the [Deep Leakage paper](https://arxiv.org/pdf/1906.08935) and [repository](https://github.com/mit-han-lab/dlg/tree/master?tab=readme-ov-file) on top of a generalised Federated Learning workflow taken from FlowerAI's example [documentation](https://flower.ai/docs/framework/tutorial-series-get-started-with-flower-pytorch.html)."
      ],
      "metadata": {
        "id": "tVQiAOl91poj"
      }
    },
    {
      "cell_type": "markdown",
      "metadata": {
        "id": "kB1OKEp7e1RE"
      },
      "source": [
        "\n",
        "## Initialise Virtual environment\n",
        "This will install the `virtualenv` command to then be run to create the virtual environment. The Python Script will add it to the Colab path and `source venv/bin/activate` should activate the virtual environment."
      ]
    },
    {
      "cell_type": "code",
      "execution_count": 1,
      "metadata": {
        "colab": {
          "base_uri": "https://localhost:8080/"
        },
        "id": "lyE8y47jeupc",
        "outputId": "bcf2af2d-f6a1-48a6-8b28-8376ecc461fa"
      },
      "outputs": [
        {
          "output_type": "stream",
          "name": "stdout",
          "text": [
            "created virtual environment CPython3.11.11.final.0-64 in 870ms\n",
            "  creator CPython3Posix(dest=/content/venv, clear=False, no_vcs_ignore=False, global=False)\n",
            "  seeder FromAppData(download=False, pip=bundle, setuptools=bundle, wheel=bundle, via=copy, app_data_dir=/root/.local/share/virtualenv)\n",
            "    added seed packages: pip==25.0.1, setuptools==75.8.0, wheel==0.45.1\n",
            "  activators BashActivator,CShellActivator,FishActivator,NushellActivator,PowerShellActivator,PythonActivator\n"
          ]
        }
      ],
      "source": [
        "!rm -r venv/ 2>/dev/null\n",
        "!rm -r gradients/ 2>/dev/null\n",
        "!pip install -q virtualenv\n",
        "!virtualenv venv\n",
        "import os\n",
        "os.environ['VIRTUAL_ENV'] = './venv'\n",
        "os.environ['PATH'] += os.pathsep + os.path.join(os.environ['VIRTUAL_ENV'], 'bin')\n",
        "!source venv/bin/activate"
      ]
    },
    {
      "cell_type": "markdown",
      "metadata": {
        "id": "ATKoWWEVgxGo"
      },
      "source": [
        "## Download Dependencies\n",
        "These are the basic dependencies that can be found on FlowerAI's quickstart guide here.\n",
        "\n",
        "**CITE**: https://flower.ai/docs/framework/tutorial-series-get-started-with-flower-pytorch.html#Install-dependencies"
      ]
    },
    {
      "cell_type": "code",
      "execution_count": 2,
      "metadata": {
        "id": "cKAkgg7Xgwmw"
      },
      "outputs": [],
      "source": [
        "!pip install -q flwr[simulation] flwr-datasets[vision] torch torchvision matplotlib"
      ]
    },
    {
      "cell_type": "markdown",
      "metadata": {
        "id": "Qbur5od3iwZH"
      },
      "source": [
        "## Importing libraries\n",
        "These Imports are taken from a mixture of a Github examples and their quick-start guide. It has been adapted with aditional imports that help with image metrics and gradient storing.\n",
        "\n",
        "**CITE**: https://github.com/adap/flower/tree/main/examples/quickstart-pytorch\n",
        "\n",
        "**CITE**: https://flower.ai/docs/framework/tutorial-series-get-started-with-flower-pytorch.html#Install-dependencies\n",
        "\n",
        "**CITE**: https://github.com/adap/flower/blob/main/examples/fl-dp-sa/fl_dp_sa/client_app.py#L6C29-L6C46"
      ]
    },
    {
      "cell_type": "code",
      "execution_count": 16,
      "metadata": {
        "colab": {
          "base_uri": "https://localhost:8080/"
        },
        "id": "aXCLWRLdi9BF",
        "outputId": "b8e7345c-7e11-4eea-a5f2-d7c987e38e18"
      },
      "outputs": [
        {
          "output_type": "stream",
          "name": "stdout",
          "text": [
            "Training on cpu\n",
            "Flower 1.17.0 / PyTorch 2.6.0+cu124/ Numpy 2.0.2\n"
          ]
        }
      ],
      "source": [
        "# For task.py\n",
        "from collections import OrderedDict\n",
        "\n",
        "import torch\n",
        "import torch.nn as nn\n",
        "import torch.nn.functional as F\n",
        "from flwr_datasets import FederatedDataset\n",
        "from flwr_datasets.partitioner import IidPartitioner\n",
        "from torch.utils.data import DataLoader\n",
        "from torchvision.transforms import Compose, Normalize, ToTensor\n",
        "\n",
        "# For client_app.py\n",
        "import torch\n",
        "from flwr.client import ClientApp, NumPyClient, Client\n",
        "from flwr.common import Context\n",
        "from flwr.client.mod import secaggplus_mod, fixedclipping_mod\n",
        "\n",
        "# For server_app.py\n",
        "from typing import List, Tuple\n",
        "\n",
        "from flwr.common import Context, Metrics, ndarrays_to_parameters\n",
        "from flwr.server import ServerApp, ServerAppComponents, ServerConfig, Grid, LegacyContext\n",
        "from flwr.server.strategy import FedAvg, Strategy, DifferentialPrivacyClientSideFixedClipping\n",
        "from flwr.server.workflow import SecAggPlusWorkflow, DefaultWorkflow\n",
        "from flwr.simulation import run_simulation, start_simulation\n",
        "\n",
        "# General imports\n",
        "from datasets.utils.logging import disable_progress_bar\n",
        "import flwr\n",
        "from flwr.common import parameters_to_ndarrays\n",
        "import numpy as np\n",
        "import torch\n",
        "from torchvision import transforms, datasets\n",
        "import matplotlib.pyplot as plt\n",
        "from sklearn.metrics import precision_score, recall_score, f1_score\n",
        "from skimage.metrics import structural_similarity, peak_signal_noise_ratio, mean_squared_error\n",
        "import uuid\n",
        "import pickle\n",
        "from typing import Callable\n",
        "import glob\n",
        "import os\n",
        "\n",
        "DEVICE = \"cuda\" if torch.cuda.is_available() else \"cpu\"\n",
        "print(f\"Training on {DEVICE}\")\n",
        "print(f\"Flower {flwr.__version__} / PyTorch {torch.__version__}/ Numpy {np.__version__}\")\n",
        "disable_progress_bar()"
      ]
    },
    {
      "cell_type": "markdown",
      "metadata": {
        "id": "v73NLgktju1n"
      },
      "source": [
        "## Task"
      ]
    },
    {
      "cell_type": "markdown",
      "metadata": {
        "id": "saX2FiZ0oLcg"
      },
      "source": [
        "### Initialise Client/Batch/Dataset"
      ]
    },
    {
      "cell_type": "markdown",
      "metadata": {
        "id": "itszT2vhrKcC"
      },
      "source": [
        " This example is also tweaked from the original quickstart example to load the [CIFAR100 dataset](https://huggingface.co/datasets/uoft-cs/cifar100):\n",
        " - Initialises batch size for images and the number of available clients in the simulation.\n",
        " - Loads the `cifar100` dataset from `FederateDataset` and partitions based on number of clients.\n",
        " - Split the data with 80/20 train and test split.\n",
        " - Normalise and convert to tensors, if not alreary a tensor.\n",
        " - Batach apply transformations.\n",
        " - Load into training, testing and validation variables of type `DataLoader` to then be returned to the place that calls this function.\n",
        "\n",
        "\n",
        " **CITE**: https://flower.ai/docs/framework/tutorial-series-get-started-with-flower-pytorch.html\n",
        "\n",
        " **CITE**: https://huggingface.co/datasets/uoft-cs/cifar100"
      ]
    },
    {
      "cell_type": "code",
      "execution_count": 4,
      "metadata": {
        "id": "FNPmwi8FjtqH"
      },
      "outputs": [],
      "source": [
        "NUM_CLIENTS = 10\n",
        "BATCH_SIZE = 100\n",
        "\n",
        "def load_datasets(partition_id: int):\n",
        "    fds = FederatedDataset(dataset=\"uoft-cs/cifar100\", partitioners={\"train\": NUM_CLIENTS})\n",
        "    partition = fds.load_partition(partition_id)\n",
        "    # Divide data on each node: 80% train, 20% test\n",
        "    partition_train_test = partition.train_test_split(test_size=0.2, seed=42)\n",
        "    pytorch_transforms = transforms.Compose(\n",
        "        [transforms.ToTensor(), transforms.Normalize((0.5, 0.5, 0.5), (0.5, 0.5, 0.5))]\n",
        "    )\n",
        "\n",
        "    def apply_transforms(batch):\n",
        "        batch[\"img\"] = [pytorch_transforms(img) for img in batch[\"img\"]]\n",
        "        return batch\n",
        "\n",
        "    partition_train_test = partition_train_test.with_transform(apply_transforms)\n",
        "    trainloader = DataLoader(\n",
        "        partition_train_test[\"train\"], batch_size=BATCH_SIZE, shuffle=True\n",
        "    )\n",
        "    valloader = DataLoader(partition_train_test[\"test\"], batch_size=BATCH_SIZE)\n",
        "    testset = fds.load_split(\"test\").with_transform(apply_transforms)\n",
        "    testloader = DataLoader(testset, batch_size=BATCH_SIZE)\n",
        "    return trainloader, valloader, testloader\n"
      ]
    },
    {
      "cell_type": "markdown",
      "source": [
        "### Example images from dataset\n",
        "This was taken and tweaked from the documentation, where it loads and shows 32 CIFAR100 images. In this case the `[\"label\"]` from the CIFAR10 dataset had to be switched to `[\"fine_label\"]` to prevent any errors when loading these images.\n",
        "\n",
        "A useful showcase of how the dataset is formatted.\n",
        "\n",
        "**CITE**: https://flower.ai/docs/framework/tutorial-series-get-started-with-flower-pytorch.html#Load-the-data"
      ],
      "metadata": {
        "id": "buU_-7Kc6FDA"
      }
    },
    {
      "cell_type": "code",
      "execution_count": 5,
      "metadata": {
        "colab": {
          "base_uri": "https://localhost:8080/",
          "height": 696,
          "referenced_widgets": [
            "6e02d3f4750343a282ca9d2595b66162",
            "a361e9a17164473ea205bdd4b9813c6a",
            "d549b414a4fb4344b6548d31604ac79f",
            "459969645c4d42b488cab42f68031725",
            "d237a202e8d74407b3ca92e18888f37b",
            "46135d23dc10416899a7e36a9558378c",
            "bff04811265b46c0b87956aef897fe57",
            "c26bf4e1e4a84d20a56d86411840debd",
            "f666ae3165f147cbb99aaad8929fc5db",
            "7757cf08a850404eb305ae0d78053043",
            "5780e44fb75f4ec2b91c45e0abce9576",
            "a70a13f3c5df40ca8878a645f402b251",
            "7ef3cbf531e442298beb75500f492eed",
            "b45ed396a27d4ec8abcde5046158dc3e",
            "09b2688e06e34d04bb57515950a234bc",
            "791c97631e5942049a4978be5dd7569e",
            "f8c2e8210fc643a6ab129a83cb3d4dec",
            "cc90f97f1b7d492091ed8b273f1d717c",
            "99e76db768a54bfc9ec9b55694b646ca",
            "80dff2a4d7de4232a784fd66e9860e38",
            "d6e9c096dedb4402b8665fd765211f41",
            "901c1e8c27fb40c99b7f7a64482631f2",
            "6003a84e4e3c4eee85f8e4e7ba7d0190",
            "22cfe676e18740d1987aebf040b4e423",
            "da6d10c3def5404187cde352c9c73edd",
            "83146a6486184d2098430c44435369db",
            "a61a8d878fe54bf49e790c9f0839ffb4",
            "418b22b5e60540fea954f1a5968f60d4",
            "b46fae13bbc04426b96da16a720a63f8",
            "f14176b40ee041f8add4db3899fbcda0",
            "91604e751ff44adb8d53c8ec19c22a05",
            "62ff9b8dde59457bbd2f1d59d2601ebd",
            "b609724452644f7ba80c604f5089a2ca"
          ]
        },
        "id": "c-PnSh-uoUdO",
        "outputId": "45353f18-2cc7-468c-bc9c-238333997c9c"
      },
      "outputs": [
        {
          "output_type": "stream",
          "name": "stderr",
          "text": [
            "/usr/local/lib/python3.11/dist-packages/huggingface_hub/utils/_auth.py:94: UserWarning: \n",
            "The secret `HF_TOKEN` does not exist in your Colab secrets.\n",
            "To authenticate with the Hugging Face Hub, create a token in your settings tab (https://huggingface.co/settings/tokens), set it as secret in your Google Colab and restart your session.\n",
            "You will be able to reuse this secret in all of your notebooks.\n",
            "Please note that authentication is recommended but still optional to access public models or datasets.\n",
            "  warnings.warn(\n"
          ]
        },
        {
          "output_type": "display_data",
          "data": {
            "text/plain": [
              "README.md:   0%|          | 0.00/9.98k [00:00<?, ?B/s]"
            ],
            "application/vnd.jupyter.widget-view+json": {
              "version_major": 2,
              "version_minor": 0,
              "model_id": "6e02d3f4750343a282ca9d2595b66162"
            }
          },
          "metadata": {}
        },
        {
          "output_type": "display_data",
          "data": {
            "text/plain": [
              "train-00000-of-00001.parquet:   0%|          | 0.00/119M [00:00<?, ?B/s]"
            ],
            "application/vnd.jupyter.widget-view+json": {
              "version_major": 2,
              "version_minor": 0,
              "model_id": "a70a13f3c5df40ca8878a645f402b251"
            }
          },
          "metadata": {}
        },
        {
          "output_type": "display_data",
          "data": {
            "text/plain": [
              "test-00000-of-00001.parquet:   0%|          | 0.00/23.8M [00:00<?, ?B/s]"
            ],
            "application/vnd.jupyter.widget-view+json": {
              "version_major": 2,
              "version_minor": 0,
              "model_id": "6003a84e4e3c4eee85f8e4e7ba7d0190"
            }
          },
          "metadata": {}
        },
        {
          "output_type": "display_data",
          "data": {
            "text/plain": [
              "<Figure size 1200x600 with 32 Axes>"
            ],
            "image/png": "[encoded data removed]"
          },
          "metadata": {}
        }
      ],
      "source": [
        "trainloader, _, _ = load_datasets(partition_id=0)\n",
        "batch = next(iter(trainloader))\n",
        "images, labels = batch[\"img\"], batch[\"fine_label\"]\n",
        "\n",
        "# Reshape and convert images to a NumPy array\n",
        "# matplotlib requires images with the shape (height, width, 3)\n",
        "images = images.permute(0, 2, 3, 1).numpy()\n",
        "\n",
        "# Denormalize\n",
        "images = images / 2 + 0.5\n",
        "\n",
        "# Create a figure and a grid of subplots\n",
        "fig, axs = plt.subplots(4, 8, figsize=(12, 6))\n",
        "\n",
        "# Loop over the images and plot them\n",
        "for i, ax in enumerate(axs.flat):\n",
        "    ax.imshow(images[i])\n",
        "    ax.set_title(trainloader.dataset.features[\"fine_label\"].int2str([labels[i]])[0])\n",
        "    ax.axis(\"off\")\n",
        "\n",
        "# Show the plot\n",
        "fig.tight_layout()\n",
        "plt.show()"
      ]
    },
    {
      "cell_type": "markdown",
      "metadata": {
        "id": "pRfMw4sAr3Em"
      },
      "source": [
        "### Create Neural Network\n",
        "\n",
        "This was taken from the DLG implementation, rather than creating a new one or using FlowerAI's example [one](https://flower.ai/docs/framework/tutorial-series-get-started-with-flower-pytorch.html#Define-the-model). This was due to the model having been already showcased in this context, and the FlowerAI used Rectified Linear Unit (ReLU) activation function, which is not double differentiable. This makes it hard to run the attack.\n",
        "\n",
        "**CITE**: https://github.com/mit-han-lab/dlg/blob/master/models/vision.py\n",
        "\n",
        "**CITE**: https://flower.ai/docs/framework/tutorial-series-get-started-with-flower-pytorch.html#Define-the-model"
      ]
    },
    {
      "cell_type": "code",
      "execution_count": 6,
      "metadata": {
        "id": "1Q7FD42_r7-a"
      },
      "outputs": [],
      "source": [
        "def weights_init(m):\n",
        "    if hasattr(m, \"weight\"):\n",
        "        m.weight.data.uniform_(-0.5, 0.5)\n",
        "    if hasattr(m, \"bias\"):\n",
        "        m.bias.data.uniform_(-0.5, 0.5)\n",
        "\n",
        "class LeNet(nn.Module):\n",
        "    def __init__(self):\n",
        "        super(LeNet, self).__init__()\n",
        "        act = nn.Sigmoid\n",
        "        self.body = nn.Sequential(\n",
        "            nn.Conv2d(3, 12, kernel_size=5, padding=5//2, stride=2),\n",
        "            act(),\n",
        "            nn.Conv2d(12, 12, kernel_size=5, padding=5//2, stride=2),\n",
        "            act(),\n",
        "            nn.Conv2d(12, 12, kernel_size=5, padding=5//2, stride=1),\n",
        "            act(),\n",
        "        )\n",
        "        self.fc = nn.Sequential(\n",
        "            nn.Linear(768, 100)\n",
        "        )\n",
        "\n",
        "    def forward(self, x):\n",
        "        out = self.body(x)\n",
        "        out = out.view(out.size(0), -1)\n",
        "        out = self.fc(out)\n",
        "        return out\n"
      ]
    },
    {
      "cell_type": "markdown",
      "metadata": {
        "id": "LIAZgz77tVrf"
      },
      "source": [
        "### Train and Test functions\n",
        "Running a basic training and testing function.\n",
        "\n",
        "Right now, the `EPOCH` is set to `1` so it is not very effective, generally but is fine for this use-case.\n",
        "\n",
        "**CITE**: https://flower.ai/docs/framework/tutorial-series-get-started-with-flower-pytorch.html#Step-1:-Centralized-Training-with-PyTorch"
      ]
    },
    {
      "cell_type": "code",
      "execution_count": 7,
      "metadata": {
        "id": "k5l0JTPztjbI"
      },
      "outputs": [],
      "source": [
        "def train(net, trainloader, epochs: int,verbose=False):\n",
        "    \"\"\"Train the network on the training set.\"\"\"\n",
        "    criterion = torch.nn.CrossEntropyLoss()\n",
        "    optimizer = torch.optim.Adam(net.parameters())\n",
        "    net.train()\n",
        "    for epoch in range(epochs):\n",
        "        correct, total, epoch_loss = 0, 0, 0.0\n",
        "        for batch in trainloader:\n",
        "            images, labels = batch[\"img\"].to(DEVICE), batch[\"fine_label\"].to(DEVICE)\n",
        "            optimizer.zero_grad()\n",
        "            outputs = net(images)\n",
        "            loss = criterion(outputs, labels)\n",
        "            loss.backward()\n",
        "\n",
        "            optimizer.step()\n",
        "            # Metrics\n",
        "            epoch_loss += loss\n",
        "            total += labels.size(0)\n",
        "            correct += (torch.max(outputs.data, 1)[1] == labels).sum().item()\n",
        "        epoch_loss /= len(trainloader.dataset)\n",
        "        epoch_acc = correct / total\n",
        "        if verbose:\n",
        "            print(f\"Epoch {epoch+1}: train loss {epoch_loss}, accuracy {epoch_acc}\")\n",
        "\n",
        "\n",
        "def test(net, testloader):\n",
        "    \"\"\"Evaluate the network on the entire test set.\"\"\"\n",
        "    criterion = torch.nn.CrossEntropyLoss()\n",
        "    correct, total, loss = 0, 0, 0.0\n",
        "    net.eval()\n",
        "    all_labels = []\n",
        "    all_predicted = []\n",
        "    with torch.no_grad():\n",
        "        for batch in testloader:\n",
        "            images, labels = batch[\"img\"].to(DEVICE), batch[\"fine_label\"].to(DEVICE)\n",
        "            outputs = net(images)\n",
        "            loss += criterion(outputs, labels).item()\n",
        "            _, predicted = torch.max(outputs.data, 1)\n",
        "            total += labels.size(0)\n",
        "            correct += (predicted == labels).sum().item()\n",
        "\n",
        "            all_labels.extend(labels.cpu().numpy())\n",
        "            all_predicted.extend(predicted.cpu().numpy())\n",
        "    loss /= len(testloader.dataset)\n",
        "    accuracy = correct / total\n",
        "    precision = precision_score(all_labels, all_predicted, average='weighted', zero_division=0)\n",
        "    recall = recall_score(all_labels, all_predicted, average='weighted', zero_division=0)\n",
        "    f1 = f1_score(all_labels, all_predicted, average='weighted', zero_division=0)\n",
        "    print(f\"Test Loss: {loss}, Accuracy: {correct/total}, Precision: {precision}, Recall: {recall}, F1: {f1}\")\n",
        "    return loss, accuracy, precision, recall, f1"
      ]
    },
    {
      "cell_type": "markdown",
      "metadata": {
        "id": "qQLBPqYqjdTh"
      },
      "source": [
        "## Client App"
      ]
    },
    {
      "cell_type": "markdown",
      "metadata": {
        "id": "z5dpnp4-vedi"
      },
      "source": [
        "### Set up get parameter fetching and setting\n",
        "These getter and setter methods for parameter access and update.\n",
        "\n",
        "They are called in the `fit` function in the `FlowerClient` class, and they are used to alter and retrieve the Neural Network parameters, which can be used to access gradients.\n",
        "\n",
        "**CITE**: https://flower.ai/docs/framework/tutorial-series-get-started-with-flower-pytorch.html#Update-model-parameters"
      ]
    },
    {
      "cell_type": "code",
      "execution_count": 9,
      "metadata": {
        "id": "7300XnTzjgDr"
      },
      "outputs": [],
      "source": [
        "def set_parameters(net, parameters: List[np.ndarray]):\n",
        "    params_dict = zip(net.state_dict().keys(), parameters)\n",
        "    state_dict = OrderedDict({k: torch.Tensor(v) for k, v in params_dict})\n",
        "    net.load_state_dict(state_dict, strict=True)\n",
        "\n",
        "\n",
        "def get_parameters(net) -> List[np.ndarray]:\n",
        "    return [val.cpu().numpy() for _, val in net.state_dict().items()]"
      ]
    },
    {
      "cell_type": "markdown",
      "source": [
        "### Creating Client Strategy\n",
        "This class was templated and tweaked from FlowerAI's documentation.\n",
        "\n",
        "The added function is:\n",
        "- `def store_gradients`: function to store `.pkl` files of gradients retrieved after training has occurred.\n",
        "\n",
        "The added class variables are:\n",
        "- `client_id`: generates a `uuid.uuid4()` string to prevent name duplications in file creation.\n",
        "- `gradient_file`: f-string to for file creation.\n",
        "- `gradient_file_path`: full file path to store.\n",
        "- `clipping_norm`: maximum allowed norm for gradient before it gets clipped.\n",
        "- `sensitivity`: maximum amount the output can change when data is added or removed from datset.\n",
        "- `epsilon`: controls level of privacy.\n",
        "- `delta`: probability that the privacy guaranatee of `epsilon` will not hold, hence very small.\n",
        "\n",
        "The idea, in this example is to \"steal\" gradients before any additional forms of PET were implemented on them. In this case however it is not called as SAP + DP will be tested with provided `mods` and `Workflows` by FlowerAI.\n",
        "\n",
        "**CITE**: https://flower.ai/docs/framework/tutorial-series-get-started-with-flower-pytorch.html#Define-the-Flower-ClientApp\n"
      ],
      "metadata": {
        "id": "SN5e7foF_3_x"
      }
    },
    {
      "cell_type": "code",
      "execution_count": 10,
      "metadata": {
        "id": "cse2hoG8zH6k"
      },
      "outputs": [],
      "source": [
        "class FlowerClient(NumPyClient):\n",
        "    def __init__(self, net, trainloader, valloader):\n",
        "        self.net = net\n",
        "        self.trainloader = trainloader\n",
        "        self.valloader = valloader\n",
        "        self.client_id = str(uuid.uuid4())\n",
        "        self.gradient_file = f\"gradients_{self.client_id}.pkl\"\n",
        "        os.makedirs(\"gradients\", exist_ok=True)\n",
        "        self.gradient_file_path = os.path.join(\"gradients\", self.gradient_file)\n",
        "\n",
        "\n",
        "    def get_parameters(self, config):\n",
        "        return get_parameters(self.net)\n",
        "\n",
        "    def fit(self, parameters, config):\n",
        "        set_parameters(self.net, parameters)\n",
        "        train(self.net, self.trainloader, epochs=1)\n",
        "        return get_parameters(self.net), len(self.trainloader), {}\n",
        "\n",
        "    def store_gradients(self):\n",
        "        batch_gradients = [param.grad.detach().cpu() for param in self.net.parameters() if param.grad is not None]\n",
        "        with open(self.gradient_file_path, \"ab\") as f:\n",
        "            pickle.dump(batch_gradients, f)\n",
        "\n",
        "    def evaluate(self, parameters, config):\n",
        "        set_parameters(self.net, parameters)\n",
        "        loss, accuracy, precision, recall, f1 = test(self.net, self.valloader)\n",
        "        return float(loss), len(self.valloader), {\n",
        "            \"accuracy\": float(accuracy),\n",
        "            \"precision\": float(precision),\n",
        "            \"recall\": float(recall),\n",
        "            \"f1_score\": float(f1)\n",
        "        }"
      ]
    },
    {
      "cell_type": "markdown",
      "source": [
        "### Create and initialise client\n",
        "Simple function to create and initialise the `Client` class to be used in the simulation.\n",
        "\n",
        "**CITE**: https://flower.ai/docs/framework/tutorial-series-get-started-with-flower-pytorch.html#Define-the-Flower-ClientApp\n",
        "\n",
        "**CITE**: https://github.com/adap/flower/blob/main/examples/fl-dp-sa/fl_dp_sa/client_app.py#L48"
      ],
      "metadata": {
        "id": "C7S9_378BMSS"
      }
    },
    {
      "cell_type": "code",
      "execution_count": 11,
      "metadata": {
        "id": "TcZu-8M73DtI"
      },
      "outputs": [],
      "source": [
        "def client_fn(context: Context) -> Client:\n",
        "    \"\"\"Create a Flower client representing a single organization.\"\"\"\n",
        "\n",
        "    # Load model\n",
        "    net = LeNet().to(DEVICE)\n",
        "\n",
        "    # Load data (CIFAR-10)\n",
        "    # Note: each client gets a different trainloader/valloader, so each client\n",
        "    # will train and evaluate on their own unique data partition\n",
        "    # Read the node_config to fetch data partition associated to this node\n",
        "    partition_id = context.node_config[\"partition-id\"]\n",
        "    trainloader, valloader, _ = load_datasets(partition_id=partition_id)\n",
        "\n",
        "    # Create a single Flower client representing a single organization\n",
        "    # FlowerClient is a subclass of NumPyClient, so we need to call .to_client()\n",
        "    # to convert it to a subclass of `flwr.client.Client`\n",
        "    return FlowerClient(net, trainloader, valloader).to_client()\n",
        "\n",
        "\n",
        "\n",
        "# Create the ClientApp\n",
        "client = ClientApp(\n",
        "    client_fn=client_fn,\n",
        "      mods=[\n",
        "        secaggplus_mod,\n",
        "        fixedclipping_mod,\n",
        "    ],\n",
        ")"
      ]
    },
    {
      "cell_type": "markdown",
      "metadata": {
        "id": "yn9dnVdTjpDD"
      },
      "source": [
        "## Server App\n",
        "Create a basic `FedAvg` strategy.\n",
        "\n",
        "**CITE**: https://flower.ai/docs/framework/tutorial-series-get-started-with-flower-pytorch.html#Define-the-Flower-ServerApp"
      ]
    },
    {
      "cell_type": "markdown",
      "source": [
        "### Store the SAP encrypted gradient here\n",
        "\n",
        "Here this strategy:\n",
        "\n",
        "- Inherits from `FedAvg`.\n",
        "- Runs inherited `aggregate_fit` function.\n",
        "- Checks if `aggregate_parameters` is not empty\n",
        "- Quickly runs a dummy pass of network to then store gradient, same as `FlowerClient\n",
        "\n",
        "**CITE**: https://github.com/adap/flower/blob/main/src/py/flwr/server/strategy/fedavg.py#L52"
      ],
      "metadata": {
        "id": "0hgJ_XdZ4Yu4"
      }
    },
    {
      "cell_type": "code",
      "source": [
        "class GradientTrackingStrategy(FedAvg):\n",
        "      def __init__(self, *args, **kwargs):\n",
        "          super().__init__(*args, **kwargs)\n",
        "          self.net = None\n",
        "          self.server_id = str(uuid.uuid4())\n",
        "          self.gradient_file = f\"gradients_{self.server_id}.pkl\"\n",
        "          os.makedirs(\"gradients\", exist_ok=True)\n",
        "          self.gradient_file_path = os.path.join(\"gradients\", self.gradient_file)\n",
        "\n",
        "      def store_gradients(self):\n",
        "        batch_gradients = [param.grad.detach().cpu() for param in self.net.parameters() if param.grad is not None]\n",
        "        with open(self.gradient_file_path, \"ab\") as f:\n",
        "            pickle.dump(batch_gradients, f)\n",
        "\n",
        "      def aggregate_fit(self, server_round, results, failures):\n",
        "        if len(results) == 0:\n",
        "            return None\n",
        "        aggregated_parameters, metrics = super().aggregate_fit(server_round, results, failures)\n",
        "        if aggregated_parameters is not None:\n",
        "            aggregated_parameters = parameters_to_ndarrays(aggregated_parameters)\n",
        "            self.net.train()\n",
        "            set_parameters(self.net, aggregated_parameters)\n",
        "            # Perform a dummy forward and backward pass to calculate gradients of net once aggregate has been set\n",
        "            dummy_input = torch.randn(1, 3, 32, 32).to(DEVICE)  # Adjust input shape as needed\n",
        "            dummy_output = self.net(dummy_input)\n",
        "            dummy_loss = dummy_output.sum()  # A dummy loss function\n",
        "            dummy_loss.backward()\n",
        "            self.store_gradients()\n",
        "            aggregated_parameters = ndarrays_to_parameters(aggregated_parameters)\n",
        "        return aggregated_parameters, metrics"
      ],
      "metadata": {
        "id": "tCRTxjTy4gl1"
      },
      "execution_count": 12,
      "outputs": []
    },
    {
      "cell_type": "markdown",
      "source": [
        "### Create and initialise server\n",
        "Setting up the configuration so that the Federated Learning workflow runs for 3 rounds, which can be adjusted.\n",
        "\n",
        "**CITE**: https://flower.ai/docs/framework/tutorial-series-get-started-with-flower-pytorch.html#Define-the-Flower-ServerApp"
      ],
      "metadata": {
        "id": "iP9HLBsGBweg"
      }
    },
    {
      "cell_type": "code",
      "execution_count": 13,
      "metadata": {
        "id": "YQwnnyKD3rIW"
      },
      "outputs": [],
      "source": [
        "def server_fn(context: Context) -> ServerAppComponents:\n",
        "    \"\"\"Construct components that set the ServerApp behaviour.\n",
        "\n",
        "    You can use the settings in `context.run_config` to parameterize the\n",
        "    construction of all elements (e.g the strategy or the number of rounds)\n",
        "    wrapped in the returned ServerAppComponents object.\n",
        "    \"\"\"\n",
        "\n",
        "    return ServerAppComponents()\n",
        "# Create the ServerApp\n",
        "server = ServerApp(server_fn=server_fn)"
      ]
    },
    {
      "cell_type": "markdown",
      "metadata": {
        "id": "3JsaTvXr3vSK"
      },
      "source": [
        "### Run Training\n"
      ]
    },
    {
      "cell_type": "markdown",
      "source": [
        "#### Set Backend Config\n",
        "Backend configuration about resources that can be used when running this workflow.\n",
        "\n",
        "**CITE**: https://flower.ai/docs/framework/tutorial-series-get-started-with-flower-pytorch.html#Run-the-training"
      ],
      "metadata": {
        "id": "jT8UaEM3ebjs"
      }
    },
    {
      "cell_type": "code",
      "execution_count": 14,
      "metadata": {
        "id": "7x6ZbBN23xsk"
      },
      "outputs": [],
      "source": [
        "# Specify the resources each of your clients need\n",
        "# By default, each client will be allocated 1x CPU and 0x GPUs\n",
        "backend_config = {\"client_resources\": {\"num_cpus\": 1, \"num_gpus\": 0.0}}\n",
        "\n",
        "# When running on GPU, assign an entire GPU for each client\n",
        "if DEVICE == \"cuda\":\n",
        "    backend_config = {\"client_resources\": {\"num_cpus\": 1, \"num_gpus\": 1.0}}\n",
        "    # Refer to our Flower framework documentation for more details about Flower simulations\n",
        "    # and how to set up the `backend_config`"
      ]
    },
    {
      "cell_type": "markdown",
      "source": [
        "#### Run a simulation based on provided config\n",
        "Due to the inclusion of the `SecAggPlusWorkflow` a function with the `@server.main()` decorator had to pass said workflow rather than directly passing it to the `SeverApp`.\n",
        "\n",
        "\n",
        "**CITE**: https://github.com/adap/flower/blob/68e24206fd4754a9047914b318977b293d990e03/examples/flower-secure-aggregation/secaggexample/server_app.py#L31"
      ],
      "metadata": {
        "id": "wJCPGUtQClSf"
      }
    },
    {
      "cell_type": "code",
      "execution_count": 23,
      "metadata": {
        "colab": {
          "base_uri": "https://localhost:8080/"
        },
        "collapsed": true,
        "id": "GdoOE09030ev",
        "outputId": "45bcf94b-6733-405c-87a4-f26373be24ec"
      },
      "outputs": [
        {
          "output_type": "stream",
          "name": "stderr",
          "text": [
            "\u001b[92mINFO \u001b[0m:      [INIT]\n",
            "\u001b[92mINFO \u001b[0m:      Using initial global parameters provided by strategy\n",
            "\u001b[92mINFO \u001b[0m:      Starting evaluation of initial global parameters\n",
            "\u001b[92mINFO \u001b[0m:      Evaluation returned no results (`None`)\n",
            "\u001b[92mINFO \u001b[0m:      \n",
            "\u001b[92mINFO \u001b[0m:      [ROUND 1]\n",
            "\u001b[92mINFO \u001b[0m:      Secure aggregation commencing.\n",
            "\u001b[92mINFO \u001b[0m:      configure_fit: strategy sampled 10 clients (out of 10)\n",
            "\u001b[36m(pid=14316)\u001b[0m 2025-03-30 16:14:02.567823: E external/local_xla/xla/stream_executor/cuda/cuda_fft.cc:477] Unable to register cuFFT factory: Attempting to register factory for plugin cuFFT when one has already been registered\n",
            "\u001b[36m(pid=14316)\u001b[0m WARNING: All log messages before absl::InitializeLog() is called are written to STDERR\n",
            "\u001b[36m(pid=14316)\u001b[0m E0000 00:00:1743351242.629566   14316 cuda_dnn.cc:8310] Unable to register cuDNN factory: Attempting to register factory for plugin cuDNN when one has already been registered\n",
            "\u001b[36m(pid=14316)\u001b[0m E0000 00:00:1743351242.644280   14316 cuda_blas.cc:1418] Unable to register cuBLAS factory: Attempting to register factory for plugin cuBLAS when one has already been registered\n",
            "\u001b[36m(ClientAppActor pid=14316)\u001b[0m /usr/local/lib/python3.11/dist-packages/jupyter_client/connect.py:28: DeprecationWarning: Jupyter is migrating its paths to use standard platformdirs\n",
            "\u001b[36m(ClientAppActor pid=14316)\u001b[0m given by the platformdirs library.  To remove this warning and\n",
            "\u001b[36m(ClientAppActor pid=14316)\u001b[0m see the appropriate new directories, set the environment variable\n",
            "\u001b[36m(ClientAppActor pid=14316)\u001b[0m `JUPYTER_PLATFORM_DIRS=1` and then run `jupyter --paths`.\n",
            "\u001b[36m(ClientAppActor pid=14316)\u001b[0m The use of platformdirs will be the default in `jupyter_core` v6\n",
            "\u001b[36m(ClientAppActor pid=14316)\u001b[0m   from jupyter_core.paths import jupyter_data_dir, jupyter_runtime_dir, secure_write\n",
            "\u001b[36m(pid=14317)\u001b[0m 2025-03-30 16:14:02.567823: E external/local_xla/xla/stream_executor/cuda/cuda_fft.cc:477] Unable to register cuFFT factory: Attempting to register factory for plugin cuFFT when one has already been registered\n",
            "\u001b[36m(pid=14317)\u001b[0m WARNING: All log messages before absl::InitializeLog() is called are written to STDERR\n",
            "\u001b[36m(pid=14317)\u001b[0m E0000 00:00:1743351242.629566   14317 cuda_dnn.cc:8310] Unable to register cuDNN factory: Attempting to register factory for plugin cuDNN when one has already been registered\n",
            "\u001b[36m(pid=14317)\u001b[0m E0000 00:00:1743351242.642305   14317 cuda_blas.cc:1418] Unable to register cuBLAS factory: Attempting to register factory for plugin cuBLAS when one has already been registered\n",
            "\u001b[36m(ClientAppActor pid=14316)\u001b[0m \u001b[92mINFO \u001b[0m:      fixedclipping_mod: parameters are clipped by value: 1.0000.\n",
            "\u001b[36m(ClientAppActor pid=14317)\u001b[0m /usr/local/lib/python3.11/dist-packages/jupyter_client/connect.py:28: DeprecationWarning: Jupyter is migrating its paths to use standard platformdirs\n",
            "\u001b[36m(ClientAppActor pid=14317)\u001b[0m given by the platformdirs library.  To remove this warning and\n",
            "\u001b[36m(ClientAppActor pid=14317)\u001b[0m see the appropriate new directories, set the environment variable\n",
            "\u001b[36m(ClientAppActor pid=14317)\u001b[0m `JUPYTER_PLATFORM_DIRS=1` and then run `jupyter --paths`.\n",
            "\u001b[36m(ClientAppActor pid=14317)\u001b[0m The use of platformdirs will be the default in `jupyter_core` v6\n",
            "\u001b[36m(ClientAppActor pid=14317)\u001b[0m   from jupyter_core.paths import jupyter_data_dir, jupyter_runtime_dir, secure_write\n",
            "\u001b[36m(ClientAppActor pid=14316)\u001b[0m \u001b[92mINFO \u001b[0m:      fixedclipping_mod: parameters are clipped by value: 1.0000.\u001b[32m [repeated 4x across cluster] (Ray deduplicates logs by default. Set RAY_DEDUP_LOGS=0 to disable log deduplication, or see https://docs.ray.io/en/master/ray-observability/user-guides/configure-logging.html#log-deduplication for more options.)\u001b[0m\n",
            "\u001b[36m(ClientAppActor pid=14316)\u001b[0m \u001b[92mINFO \u001b[0m:      fixedclipping_mod: parameters are clipped by value: 1.0000.\u001b[32m [repeated 2x across cluster]\u001b[0m\n",
            "\u001b[92mINFO \u001b[0m:      aggregate_fit: received 10 results and 0 failures\n",
            "\u001b[93mWARNING \u001b[0m:   No fit_metrics_aggregation_fn provided\n",
            "\u001b[92mINFO \u001b[0m:      aggregate_fit: central DP noise with 0.1500 stdev added\n",
            "\u001b[92mINFO \u001b[0m:      Secure aggregation completed.\n",
            "\u001b[92mINFO \u001b[0m:      configure_evaluate: strategy sampled 5 clients (out of 10)\n"
          ]
        },
        {
          "output_type": "stream",
          "name": "stdout",
          "text": [
            "\u001b[36m(ClientAppActor pid=14316)\u001b[0m Test Loss: 0.05606118202209473, Accuracy: 0.013, Precision: 0.0002425207488901756, Recall: 0.013, F1: 0.0004760566324812135\n"
          ]
        },
        {
          "output_type": "stream",
          "name": "stderr",
          "text": [
            "\u001b[92mINFO \u001b[0m:      aggregate_evaluate: received 5 results and 0 failures\n",
            "\u001b[93mWARNING \u001b[0m:   No evaluate_metrics_aggregation_fn provided\n",
            "\u001b[92mINFO \u001b[0m:      \n",
            "\u001b[92mINFO \u001b[0m:      [ROUND 2]\n",
            "\u001b[92mINFO \u001b[0m:      Secure aggregation commencing.\n",
            "\u001b[92mINFO \u001b[0m:      configure_fit: strategy sampled 10 clients (out of 10)\n",
            "\u001b[36m(ClientAppActor pid=14316)\u001b[0m \u001b[92mINFO \u001b[0m:      fixedclipping_mod: parameters are clipped by value: 1.0000.\u001b[32m [repeated 4x across cluster]\u001b[0m\n",
            "\u001b[36m(ClientAppActor pid=14317)\u001b[0m \u001b[92mINFO \u001b[0m:      fixedclipping_mod: parameters are clipped by value: 1.0000.\u001b[32m [repeated 3x across cluster]\u001b[0m\n",
            "\u001b[36m(ClientAppActor pid=14316)\u001b[0m \u001b[92mINFO \u001b[0m:      fixedclipping_mod: parameters are clipped by value: 1.0000.\n",
            "\u001b[36m(ClientAppActor pid=14317)\u001b[0m \u001b[92mINFO \u001b[0m:      fixedclipping_mod: parameters are clipped by value: 1.0000.\n",
            "\u001b[36m(ClientAppActor pid=14317)\u001b[0m \u001b[92mINFO \u001b[0m:      fixedclipping_mod: parameters are clipped by value: 1.0000.\u001b[32m [repeated 2x across cluster]\u001b[0m\n",
            "\u001b[36m(ClientAppActor pid=14317)\u001b[0m \u001b[92mINFO \u001b[0m:      fixedclipping_mod: parameters are clipped by value: 1.0000.\u001b[32m [repeated 2x across cluster]\u001b[0m\n",
            "\u001b[92mINFO \u001b[0m:      aggregate_fit: received 10 results and 0 failures\n",
            "\u001b[92mINFO \u001b[0m:      aggregate_fit: central DP noise with 0.1500 stdev added\n",
            "\u001b[92mINFO \u001b[0m:      Secure aggregation completed.\n",
            "\u001b[92mINFO \u001b[0m:      configure_evaluate: strategy sampled 5 clients (out of 10)\n"
          ]
        },
        {
          "output_type": "stream",
          "name": "stdout",
          "text": [
            "\u001b[36m(ClientAppActor pid=14317)\u001b[0m Test Loss: 0.06329539966583252, Accuracy: 0.009, Precision: 8.14070351758794e-05, Recall: 0.009, F1: 0.0001613545816733068\u001b[32m [repeated 5x across cluster]\u001b[0m\n"
          ]
        },
        {
          "output_type": "stream",
          "name": "stderr",
          "text": [
            "\u001b[92mINFO \u001b[0m:      aggregate_evaluate: received 5 results and 0 failures\n",
            "\u001b[92mINFO \u001b[0m:      \n",
            "\u001b[92mINFO \u001b[0m:      [ROUND 3]\n",
            "\u001b[92mINFO \u001b[0m:      Secure aggregation commencing.\n",
            "\u001b[92mINFO \u001b[0m:      configure_fit: strategy sampled 10 clients (out of 10)\n",
            "\u001b[36m(ClientAppActor pid=14317)\u001b[0m \u001b[92mINFO \u001b[0m:      fixedclipping_mod: parameters are clipped by value: 1.0000.\n",
            "\u001b[36m(ClientAppActor pid=14316)\u001b[0m \u001b[92mINFO \u001b[0m:      fixedclipping_mod: parameters are clipped by value: 1.0000.\n",
            "\u001b[36m(ClientAppActor pid=14317)\u001b[0m \u001b[92mINFO \u001b[0m:      fixedclipping_mod: parameters are clipped by value: 1.0000.\n",
            "\u001b[36m(ClientAppActor pid=14316)\u001b[0m \u001b[92mINFO \u001b[0m:      fixedclipping_mod: parameters are clipped by value: 1.0000.\n",
            "\u001b[36m(ClientAppActor pid=14317)\u001b[0m \u001b[92mINFO \u001b[0m:      fixedclipping_mod: parameters are clipped by value: 1.0000.\u001b[32m [repeated 3x across cluster]\u001b[0m\n",
            "\u001b[36m(ClientAppActor pid=14317)\u001b[0m \u001b[92mINFO \u001b[0m:      fixedclipping_mod: parameters are clipped by value: 1.0000.\u001b[32m [repeated 2x across cluster]\u001b[0m\n",
            "\u001b[92mINFO \u001b[0m:      aggregate_fit: received 10 results and 0 failures\n",
            "\u001b[92mINFO \u001b[0m:      aggregate_fit: central DP noise with 0.1500 stdev added\n",
            "\u001b[92mINFO \u001b[0m:      Secure aggregation completed.\n",
            "\u001b[92mINFO \u001b[0m:      configure_evaluate: strategy sampled 5 clients (out of 10)\n"
          ]
        },
        {
          "output_type": "stream",
          "name": "stdout",
          "text": [
            "\u001b[36m(ClientAppActor pid=14316)\u001b[0m Test Loss: 0.06666749572753906, Accuracy: 0.008, Precision: 0.0005847018463769734, Recall: 0.008, F1: 0.001050950835612935\u001b[32m [repeated 5x across cluster]\u001b[0m\n"
          ]
        },
        {
          "output_type": "stream",
          "name": "stderr",
          "text": [
            "\u001b[92mINFO \u001b[0m:      aggregate_evaluate: received 5 results and 0 failures\n",
            "\u001b[92mINFO \u001b[0m:      \n",
            "\u001b[92mINFO \u001b[0m:      [SUMMARY]\n",
            "\u001b[92mINFO \u001b[0m:      Run finished 3 round(s) in 134.69s\n",
            "\u001b[92mINFO \u001b[0m:      History (loss, distributed):\n",
            "\u001b[92mINFO \u001b[0m:      \t\tround 1: 0.055603197669982916\n",
            "\u001b[92mINFO \u001b[0m:      \t\tround 2: 0.0629381742477417\n",
            "\u001b[92mINFO \u001b[0m:      \t\tround 3: 0.0662068383216858\n",
            "\u001b[92mINFO \u001b[0m:      \n"
          ]
        },
        {
          "output_type": "stream",
          "name": "stdout",
          "text": [
            "\u001b[36m(ClientAppActor pid=14316)\u001b[0m Test Loss: 0.06653884983062744, Accuracy: 0.008, Precision: 0.00046002442533543014, Recall: 0.008, F1: 0.0008654224610687744\u001b[32m [repeated 4x across cluster]\u001b[0m\n"
          ]
        },
        {
          "output_type": "stream",
          "name": "stderr",
          "text": [
            "\u001b[36m(ClientAppActor pid=14316)\u001b[0m \u001b[92mINFO \u001b[0m:      fixedclipping_mod: parameters are clipped by value: 1.0000.\n"
          ]
        }
      ],
      "source": [
        "@server.main()\n",
        "def main(grid: Grid, context: Context) -> None:\n",
        "    # Define strategy with altered aggregate fit to capture gradient serverside\n",
        "    #strategy = GradientTrackingStrategy(\n",
        "    #fraction_fit=1.0,  # Sample 100% of available clients for training\n",
        "    #fraction_evaluate=0.5,  # Sample 50% of available clients for evaluation\n",
        "    #min_fit_clients=10,  # Never sample less than 10 clients for training\n",
        "    #min_evaluate_clients=5,  # Never sample less than 5 clients for evaluation\n",
        "    #min_available_clients=10,  # Wait until all 10 clients are available\n",
        "    #)\n",
        "\n",
        "    gradient_tracking_strategy = GradientTrackingStrategy(\n",
        "          fraction_fit=1.0,  # Sample 100% of available clients for training\n",
        "          fraction_evaluate=0.5,  # Sample 50% of available clients for evaluation\n",
        "          min_fit_clients=10,  # Never sample less than 10 clients for training\n",
        "          min_evaluate_clients=5,  # Never sample less than 5 clients for evaluation\n",
        "          min_available_clients=10,  # Wait until all 10 clients are available\n",
        "    )\n",
        "\n",
        "\n",
        "\n",
        "\n",
        "\n",
        "    net = LeNet().to(DEVICE)  # Create an instance of the model\n",
        "    initial_parameters = ndarrays_to_parameters(\n",
        "        [val.cpu().numpy() for _, val in net.state_dict().items()]\n",
        "    )\n",
        "    if gradient_tracking_strategy.net is None:\n",
        "        gradient_tracking_strategy.net = net\n",
        "    gradient_tracking_strategy.initial_parameters = initial_parameters  # Set the initial parameters\n",
        "\n",
        "\n",
        "    strategy = DifferentialPrivacyClientSideFixedClipping(\n",
        "        strategy=gradient_tracking_strategy,\n",
        "        noise_multiplier=1.5,\n",
        "        clipping_norm=1.0,\n",
        "        num_sampled_clients=NUM_CLIENTS,\n",
        "    )\n",
        "\n",
        "\n",
        "\n",
        "    context = LegacyContext(\n",
        "        context=context,\n",
        "        config=ServerConfig(num_rounds=3),\n",
        "        strategy=strategy,\n",
        "    )\n",
        "\n",
        "    fit_workflow = SecAggPlusWorkflow(\n",
        "            num_shares=5,\n",
        "            reconstruction_threshold=3,\n",
        "    )\n",
        "\n",
        "    # Create the workflow\n",
        "    workflow = DefaultWorkflow(fit_workflow=fit_workflow)\n",
        "\n",
        "    # Execute\n",
        "    workflow(grid, context)\n",
        "# Run simulation\n",
        "run_simulation(\n",
        "    server_app=server,\n",
        "    client_app=client,\n",
        "    num_supernodes=NUM_CLIENTS,\n",
        "    backend_config=backend_config,\n",
        ")"
      ]
    },
    {
      "cell_type": "markdown",
      "metadata": {
        "id": "aup3u8jIj1Bc"
      },
      "source": [
        "## DLG"
      ]
    },
    {
      "cell_type": "markdown",
      "source": [
        "### First collect all gradients that have been simulated as captured.\n",
        "Load all the captureed gradients as `.pkl` files for usage in the Deep Leakage from Gradients attack."
      ],
      "metadata": {
        "id": "vKV42X02CnL8"
      }
    },
    {
      "cell_type": "code",
      "execution_count": 24,
      "metadata": {
        "id": "G-Vx5ZzVj3ux",
        "colab": {
          "base_uri": "https://localhost:8080/"
        },
        "outputId": "5b475a77-9623-4b17-8762-9889002933ad"
      },
      "outputs": [
        {
          "output_type": "stream",
          "name": "stdout",
          "text": [
            "Loaded 8 gradients from gradients/\n"
          ]
        }
      ],
      "source": [
        "def load_captured_gradients(path=\"gradients\"):\n",
        "    all_gradients = []\n",
        "    gradient_pkl_files = glob.glob(os.path.join(path, \"*.pkl\"))\n",
        "    for gradient_pkl_file in gradient_pkl_files:\n",
        "        with open(gradient_pkl_file, \"rb\") as f:\n",
        "            gradients = pickle.load(f)\n",
        "            all_gradients.extend(gradients)\n",
        "    print(f\"Loaded {len(all_gradients)} gradients from {path}/\")\n",
        "    return all_gradients\n",
        "\n",
        "loaded_gradients = load_captured_gradients()"
      ]
    },
    {
      "cell_type": "markdown",
      "source": [
        "### Setup for functions for DLG attack\n",
        "Original setup with little alterations on gradient access."
      ],
      "metadata": {
        "id": "cpBKJOjfGFRi"
      }
    },
    {
      "cell_type": "markdown",
      "source": [
        "#### Helper functions for tensor maths and conversions\n",
        "**CITE**: https://github.com/mit-han-lab/dlg/blob/master/utils.py#L5\n"
      ],
      "metadata": {
        "id": "ok5xXeyYD3TE"
      }
    },
    {
      "cell_type": "code",
      "source": [
        "def label_to_onehot(target, num_classes=100):\n",
        "    target = torch.unsqueeze(target, 1)\n",
        "    onehot_target = torch.zeros(target.size(0), num_classes, device=target.device)\n",
        "    onehot_target.scatter_(1, target, 1)\n",
        "    return onehot_target\n",
        "\n",
        "def cross_entropy_for_onehot(pred, target):\n",
        "    return torch.mean(torch.sum(- target * F.log_softmax(pred, dim=-1), 1))"
      ],
      "metadata": {
        "id": "9dmYRzkBGitV"
      },
      "execution_count": 25,
      "outputs": []
    },
    {
      "cell_type": "markdown",
      "source": [
        "#### Loading Dataset\n",
        "Dataset is loaded alongside:\n",
        "- `tp`: `transforms.ToTensor()`: used to convert a `PIL.Image` to `Tensor`.\n",
        "- `tt`: `transforms.ToPILImage()`: used to convert file `Tensor` to `PIL.Image`.\n",
        "\n",
        "**CITE**: https://github.com/mit-han-lab/dlg/blob/master/main.py#L31"
      ],
      "metadata": {
        "id": "JoJWNioSED0p"
      }
    },
    {
      "cell_type": "code",
      "source": [
        "dst = datasets.CIFAR100(\"~/.torch\", download=True)\n",
        "tp = transforms.ToTensor()\n",
        "tt = transforms.ToPILImage()"
      ],
      "metadata": {
        "colab": {
          "base_uri": "https://localhost:8080/"
        },
        "collapsed": true,
        "id": "n2KAtLHAIfgl",
        "outputId": "722776d9-e99c-4a24-e95b-b113437d9ccd"
      },
      "execution_count": 26,
      "outputs": [
        {
          "output_type": "stream",
          "name": "stderr",
          "text": [
            "100%|██████████| 169M/169M [00:01<00:00, 105MB/s]\n"
          ]
        }
      ]
    },
    {
      "cell_type": "markdown",
      "source": [
        "#### Set up ground truth\n",
        "In an ideal scenario you would iterate over the full dataset until you get the ground truth with the highest structural similarity but that will not be the case here.\n",
        "\n",
        "**CITE**: https://github.com/mit-han-lab/dlg/blob/master/main.py#L35"
      ],
      "metadata": {
        "id": "kx5GY-ktE8Zt"
      }
    },
    {
      "cell_type": "code",
      "source": [
        "img_index = 25\n",
        "gt_data = tp(dst[img_index][0]).to(DEVICE)\n",
        "\n",
        "gt_data = gt_data.view(1, *gt_data.size())\n",
        "gt_label = torch.Tensor([dst[img_index][1]]).long().to(DEVICE)\n",
        "gt_label = gt_label.view(1, )\n",
        "gt_onehot_label = label_to_onehot(gt_label)\n",
        "\n",
        "plt.imshow(tt(gt_data[0].cpu()))"
      ],
      "metadata": {
        "colab": {
          "base_uri": "https://localhost:8080/",
          "height": 447
        },
        "id": "u7MpCXXiI4eO",
        "outputId": "a80c65d8-1c96-4ee8-bc85-3ffdcc6136c4"
      },
      "execution_count": 27,
      "outputs": [
        {
          "output_type": "execute_result",
          "data": {
            "text/plain": [
              "<matplotlib.image.AxesImage at 0x7eb48c1b12d0>"
            ]
          },
          "metadata": {},
          "execution_count": 27
        },
        {
          "output_type": "display_data",
          "data": {
            "text/plain": [
              "<Figure size 640x480 with 1 Axes>"
            ],
            "image/png": "[encoded data removed]"
          },
          "metadata": {}
        }
      ]
    },
    {
      "cell_type": "markdown",
      "source": [
        "#### Initialise Neural Network\n",
        "- Use Neural Network that was used for training.\n",
        "- Set a `manual_seed` for reproducibility.\n",
        "- Generate a new randomly initialised gradient and plot it.\n",
        "\n",
        "**CITE**: https://github.com/mit-han-lab/dlg/blob/master/main.py#L50"
      ],
      "metadata": {
        "id": "jVpUczqyFPEw"
      }
    },
    {
      "cell_type": "code",
      "source": [
        "net = LeNet().to(DEVICE)\n",
        "\n",
        "torch.manual_seed(1234)\n",
        "net.apply(weights_init)\n",
        "criterion = cross_entropy_for_onehot\n",
        "\n",
        "dummy_data = torch.randn(gt_data.size()).to(DEVICE).requires_grad_(True)\n",
        "dummy_label = torch.randn(gt_onehot_label.size()).to(DEVICE).requires_grad_(True)\n",
        "\n",
        "plt.imshow(tt(dummy_data[0].cpu()))"
      ],
      "metadata": {
        "colab": {
          "base_uri": "https://localhost:8080/",
          "height": 447
        },
        "id": "-9dag487GBmK",
        "outputId": "3582bf1b-b805-408f-feea-a9a53297bdbc"
      },
      "execution_count": 28,
      "outputs": [
        {
          "output_type": "execute_result",
          "data": {
            "text/plain": [
              "<matplotlib.image.AxesImage at 0x7eb477aae1d0>"
            ]
          },
          "metadata": {},
          "execution_count": 28
        },
        {
          "output_type": "display_data",
          "data": {
            "text/plain": [
              "<Figure size 640x480 with 1 Axes>"
            ],
            "image/png": "[encoded data removed]"
          },
          "metadata": {}
        }
      ]
    },
    {
      "cell_type": "markdown",
      "source": [
        "#### Train\n",
        "Now train as shown in the DLG repository. The function was altered as the original provided a closer match in type and shape of gradient wheras this does not.\n",
        "\n",
        "**CITE**: https://github.com/mit-han-lab/dlg/blob/master/main.py#L72"
      ],
      "metadata": {
        "id": "6-xG7rouF8wB"
      }
    },
    {
      "cell_type": "code",
      "source": [
        "optimizer = torch.optim.LBFGS([dummy_data, dummy_label])\n",
        "history = []\n",
        "for iters in range(300):\n",
        "    def closure():\n",
        "        optimizer.zero_grad()\n",
        "\n",
        "        dummy_pred = net(dummy_data)\n",
        "        dummy_onehot_label = F.softmax(dummy_label, dim=-1)\n",
        "        dummy_loss = criterion(dummy_pred, dummy_onehot_label)\n",
        "        dummy_dy_dx = torch.autograd.grad(dummy_loss, net.parameters(), create_graph=True)\n",
        "\n",
        "        original_dy_dx = [dy_dx for dy_dx in loaded_gradients if dy_dx.shape == dummy_dy_dx[0].shape]\n",
        "        original_dy_dx = original_dy_dx[0]\n",
        "\n",
        "        grad_diff = 0\n",
        "        for gx, gy in zip(dummy_dy_dx[0], original_dy_dx):\n",
        "            grad_diff += ((gx - gy) ** 2).sum()\n",
        "        grad_diff.backward()\n",
        "\n",
        "        return grad_diff\n",
        "\n",
        "    optimizer.step(closure)\n",
        "    if iters % 10 == 0:\n",
        "        current_loss = closure()\n",
        "        print(iters, \"%.4f\" % current_loss.item())\n",
        "        history.append(tt(dummy_data[0].cpu()))\n",
        "\n",
        "\n",
        "plt.figure(figsize=(12, 8))\n",
        "for i in range(30):\n",
        "    plt.subplot(3, 10, i + 1)\n",
        "    plt.imshow(history[i])\n",
        "    plt.title(\"iter=%d\" % (i * 10))\n",
        "    plt.axis('off')\n",
        "\n",
        "plt.show()"
      ],
      "metadata": {
        "colab": {
          "base_uri": "https://localhost:8080/",
          "height": 1000
        },
        "id": "7Cy0eun1JX8K",
        "outputId": "205ac0cc-efff-43ea-dddc-02d6187b66a1"
      },
      "execution_count": 29,
      "outputs": [
        {
          "output_type": "stream",
          "name": "stdout",
          "text": [
            "0 0.0056\n",
            "10 0.0037\n",
            "20 0.0037\n",
            "30 0.0037\n",
            "40 0.0037\n",
            "50 0.0037\n",
            "60 0.0037\n",
            "70 0.0037\n",
            "80 0.0037\n",
            "90 0.0037\n",
            "100 0.0037\n",
            "110 0.0037\n",
            "120 0.0037\n",
            "130 0.0037\n",
            "140 0.0037\n",
            "150 0.0037\n",
            "160 0.0037\n",
            "170 0.0037\n",
            "180 0.0037\n",
            "190 0.0037\n",
            "200 0.0037\n",
            "210 0.0037\n",
            "220 0.0037\n",
            "230 0.0037\n",
            "240 0.0037\n",
            "250 0.0037\n",
            "260 0.0037\n",
            "270 0.0037\n",
            "280 0.0037\n",
            "290 0.0037\n"
          ]
        },
        {
          "output_type": "display_data",
          "data": {
            "text/plain": [
              "<Figure size 1200x800 with 30 Axes>"
            ],
            "image/png": "[encoded data removed]"
          },
          "metadata": {}
        }
      ]
    },
    {
      "cell_type": "markdown",
      "source": [
        "## Compare metrics\n",
        "This takes both the ground truth (`gt`) and reconstructed image (`reconstructed`) and convert them into `ndarray`'s to then be compared by the MSE, PSNR and SSIM metrics.\n",
        "\n",
        "Though this result is not as pleasing as the one in the original paper there are many reasons for this:\n",
        "- They use a centralised approach with prior knowledge as to what the ground truth is.\n",
        "- They train on said ground truth's gradient provide a more reasonable representation.\n",
        "- This could be further expanded in this case to loop through the full dataset.\n",
        "  - Though it would produce a run time of O(n×m)\n",
        "  - Where n is dataset size and m is training epoch."
      ],
      "metadata": {
        "id": "MbPyZVDDK7tg"
      }
    },
    {
      "cell_type": "code",
      "source": [
        "gt = np.array(tt(gt_data[0].cpu()))\n",
        "reconstructed = np.array(history[-1])\n",
        "gt = (gt_data[0].cpu().numpy() * 255).astype(np.uint8)\n",
        "reconstructed = (reconstructed * 255).astype(np.uint8)\n",
        "gt = gt.transpose(1, 2, 0)\n",
        "mse = mean_squared_error(gt, reconstructed)\n",
        "psnr = peak_signal_noise_ratio(gt, reconstructed)\n",
        "ssim, _ = structural_similarity(gt, reconstructed, full=True, win_size=3)\n",
        "\n",
        "\n",
        "print(f\"MSE: {mse}\")\n",
        "print(f\"PSNR: {psnr}\")\n",
        "print(f\"SSIM: {ssim}\")"
      ],
      "metadata": {
        "colab": {
          "base_uri": "https://localhost:8080/"
        },
        "id": "4EzNGXFSJp46",
        "outputId": "f3fb24a3-4915-48eb-9df1-094f1eaaa1f0"
      },
      "execution_count": 30,
      "outputs": [
        {
          "output_type": "stream",
          "name": "stdout",
          "text": [
            "MSE: 13718.7607421875\n",
            "PSNR: 6.7576547888038805\n",
            "SSIM: -0.0012108023230896327\n"
          ]
        }
      ]
    }
  ],
  "metadata": {
    "colab": {
      "provenance": []
    },
    "kernelspec": {
      "display_name": "Python 3",
      "name": "python3"
    },
    "language_info": {
      "name": "python"
    },
    "widgets": {
      "application/vnd.jupyter.widget-state+json": {
        "6e02d3f4750343a282ca9d2595b66162": {
          "model_module": "@jupyter-widgets/controls",
          "model_name": "HBoxModel",
          "model_module_version": "1.5.0",
          "state": {
            "_dom_classes": [],
            "_model_module": "@jupyter-widgets/controls",
            "_model_module_version": "1.5.0",
            "_model_name": "HBoxModel",
            "_view_count": null,
            "_view_module": "@jupyter-widgets/controls",
            "_view_module_version": "1.5.0",
            "_view_name": "HBoxView",
            "box_style": "",
            "children": [
              "IPY_MODEL_a361e9a17164473ea205bdd4b9813c6a",
              "IPY_MODEL_d549b414a4fb4344b6548d31604ac79f",
              "IPY_MODEL_459969645c4d42b488cab42f68031725"
            ],
            "layout": "IPY_MODEL_d237a202e8d74407b3ca92e18888f37b"
          }
        },
        "a361e9a17164473ea205bdd4b9813c6a": {
          "model_module": "@jupyter-widgets/controls",
          "model_name": "HTMLModel",
          "model_module_version": "1.5.0",
          "state": {
            "_dom_classes": [],
            "_model_module": "@jupyter-widgets/controls",
            "_model_module_version": "1.5.0",
            "_model_name": "HTMLModel",
            "_view_count": null,
            "_view_module": "@jupyter-widgets/controls",
            "_view_module_version": "1.5.0",
            "_view_name": "HTMLView",
            "description": "",
            "description_tooltip": null,
            "layout": "IPY_MODEL_46135d23dc10416899a7e36a9558378c",
            "placeholder": "​",
            "style": "IPY_MODEL_bff04811265b46c0b87956aef897fe57",
            "value": "README.md: 100%"
          }
        },
        "d549b414a4fb4344b6548d31604ac79f": {
          "model_module": "@jupyter-widgets/controls",
          "model_name": "FloatProgressModel",
          "model_module_version": "1.5.0",
          "state": {
            "_dom_classes": [],
            "_model_module": "@jupyter-widgets/controls",
            "_model_module_version": "1.5.0",
            "_model_name": "FloatProgressModel",
            "_view_count": null,
            "_view_module": "@jupyter-widgets/controls",
            "_view_module_version": "1.5.0",
            "_view_name": "ProgressView",
            "bar_style": "success",
            "description": "",
            "description_tooltip": null,
            "layout": "IPY_MODEL_c26bf4e1e4a84d20a56d86411840debd",
            "max": 9984,
            "min": 0,
            "orientation": "horizontal",
            "style": "IPY_MODEL_f666ae3165f147cbb99aaad8929fc5db",
            "value": 9984
          }
        },
        "459969645c4d42b488cab42f68031725": {
          "model_module": "@jupyter-widgets/controls",
          "model_name": "HTMLModel",
          "model_module_version": "1.5.0",
          "state": {
            "_dom_classes": [],
            "_model_module": "@jupyter-widgets/controls",
            "_model_module_version": "1.5.0",
            "_model_name": "HTMLModel",
            "_view_count": null,
            "_view_module": "@jupyter-widgets/controls",
            "_view_module_version": "1.5.0",
            "_view_name": "HTMLView",
            "description": "",
            "description_tooltip": null,
            "layout": "IPY_MODEL_7757cf08a850404eb305ae0d78053043",
            "placeholder": "​",
            "style": "IPY_MODEL_5780e44fb75f4ec2b91c45e0abce9576",
            "value": " 9.98k/9.98k [00:00&lt;00:00, 689kB/s]"
          }
        },
        "d237a202e8d74407b3ca92e18888f37b": {
          "model_module": "@jupyter-widgets/base",
          "model_name": "LayoutModel",
          "model_module_version": "1.2.0",
          "state": {
            "_model_module": "@jupyter-widgets/base",
            "_model_module_version": "1.2.0",
            "_model_name": "LayoutModel",
            "_view_count": null,
            "_view_module": "@jupyter-widgets/base",
            "_view_module_version": "1.2.0",
            "_view_name": "LayoutView",
            "align_content": null,
            "align_items": null,
            "align_self": null,
            "border": null,
            "bottom": null,
            "display": null,
            "flex": null,
            "flex_flow": null,
            "grid_area": null,
            "grid_auto_columns": null,
            "grid_auto_flow": null,
            "grid_auto_rows": null,
            "grid_column": null,
            "grid_gap": null,
            "grid_row": null,
            "grid_template_areas": null,
            "grid_template_columns": null,
            "grid_template_rows": null,
            "height": null,
            "justify_content": null,
            "justify_items": null,
            "left": null,
            "margin": null,
            "max_height": null,
            "max_width": null,
            "min_height": null,
            "min_width": null,
            "object_fit": null,
            "object_position": null,
            "order": null,
            "overflow": null,
            "overflow_x": null,
            "overflow_y": null,
            "padding": null,
            "right": null,
            "top": null,
            "visibility": null,
            "width": null
          }
        },
        "46135d23dc10416899a7e36a9558378c": {
          "model_module": "@jupyter-widgets/base",
          "model_name": "LayoutModel",
          "model_module_version": "1.2.0",
          "state": {
            "_model_module": "@jupyter-widgets/base",
            "_model_module_version": "1.2.0",
            "_model_name": "LayoutModel",
            "_view_count": null,
            "_view_module": "@jupyter-widgets/base",
            "_view_module_version": "1.2.0",
            "_view_name": "LayoutView",
            "align_content": null,
            "align_items": null,
            "align_self": null,
            "border": null,
            "bottom": null,
            "display": null,
            "flex": null,
            "flex_flow": null,
            "grid_area": null,
            "grid_auto_columns": null,
            "grid_auto_flow": null,
            "grid_auto_rows": null,
            "grid_column": null,
            "grid_gap": null,
            "grid_row": null,
            "grid_template_areas": null,
            "grid_template_columns": null,
            "grid_template_rows": null,
            "height": null,
            "justify_content": null,
            "justify_items": null,
            "left": null,
            "margin": null,
            "max_height": null,
            "max_width": null,
            "min_height": null,
            "min_width": null,
            "object_fit": null,
            "object_position": null,
            "order": null,
            "overflow": null,
            "overflow_x": null,
            "overflow_y": null,
            "padding": null,
            "right": null,
            "top": null,
            "visibility": null,
            "width": null
          }
        },
        "bff04811265b46c0b87956aef897fe57": {
          "model_module": "@jupyter-widgets/controls",
          "model_name": "DescriptionStyleModel",
          "model_module_version": "1.5.0",
          "state": {
            "_model_module": "@jupyter-widgets/controls",
            "_model_module_version": "1.5.0",
            "_model_name": "DescriptionStyleModel",
            "_view_count": null,
            "_view_module": "@jupyter-widgets/base",
            "_view_module_version": "1.2.0",
            "_view_name": "StyleView",
            "description_width": ""
          }
        },
        "c26bf4e1e4a84d20a56d86411840debd": {
          "model_module": "@jupyter-widgets/base",
          "model_name": "LayoutModel",
          "model_module_version": "1.2.0",
          "state": {
            "_model_module": "@jupyter-widgets/base",
            "_model_module_version": "1.2.0",
            "_model_name": "LayoutModel",
            "_view_count": null,
            "_view_module": "@jupyter-widgets/base",
            "_view_module_version": "1.2.0",
            "_view_name": "LayoutView",
            "align_content": null,
            "align_items": null,
            "align_self": null,
            "border": null,
            "bottom": null,
            "display": null,
            "flex": null,
            "flex_flow": null,
            "grid_area": null,
            "grid_auto_columns": null,
            "grid_auto_flow": null,
            "grid_auto_rows": null,
            "grid_column": null,
            "grid_gap": null,
            "grid_row": null,
            "grid_template_areas": null,
            "grid_template_columns": null,
            "grid_template_rows": null,
            "height": null,
            "justify_content": null,
            "justify_items": null,
            "left": null,
            "margin": null,
            "max_height": null,
            "max_width": null,
            "min_height": null,
            "min_width": null,
            "object_fit": null,
            "object_position": null,
            "order": null,
            "overflow": null,
            "overflow_x": null,
            "overflow_y": null,
            "padding": null,
            "right": null,
            "top": null,
            "visibility": null,
            "width": null
          }
        },
        "f666ae3165f147cbb99aaad8929fc5db": {
          "model_module": "@jupyter-widgets/controls",
          "model_name": "ProgressStyleModel",
          "model_module_version": "1.5.0",
          "state": {
            "_model_module": "@jupyter-widgets/controls",
            "_model_module_version": "1.5.0",
            "_model_name": "ProgressStyleModel",
            "_view_count": null,
            "_view_module": "@jupyter-widgets/base",
            "_view_module_version": "1.2.0",
            "_view_name": "StyleView",
            "bar_color": null,
            "description_width": ""
          }
        },
        "7757cf08a850404eb305ae0d78053043": {
          "model_module": "@jupyter-widgets/base",
          "model_name": "LayoutModel",
          "model_module_version": "1.2.0",
          "state": {
            "_model_module": "@jupyter-widgets/base",
            "_model_module_version": "1.2.0",
            "_model_name": "LayoutModel",
            "_view_count": null,
            "_view_module": "@jupyter-widgets/base",
            "_view_module_version": "1.2.0",
            "_view_name": "LayoutView",
            "align_content": null,
            "align_items": null,
            "align_self": null,
            "border": null,
            "bottom": null,
            "display": null,
            "flex": null,
            "flex_flow": null,
            "grid_area": null,
            "grid_auto_columns": null,
            "grid_auto_flow": null,
            "grid_auto_rows": null,
            "grid_column": null,
            "grid_gap": null,
            "grid_row": null,
            "grid_template_areas": null,
            "grid_template_columns": null,
            "grid_template_rows": null,
            "height": null,
            "justify_content": null,
            "justify_items": null,
            "left": null,
            "margin": null,
            "max_height": null,
            "max_width": null,
            "min_height": null,
            "min_width": null,
            "object_fit": null,
            "object_position": null,
            "order": null,
            "overflow": null,
            "overflow_x": null,
            "overflow_y": null,
            "padding": null,
            "right": null,
            "top": null,
            "visibility": null,
            "width": null
          }
        },
        "5780e44fb75f4ec2b91c45e0abce9576": {
          "model_module": "@jupyter-widgets/controls",
          "model_name": "DescriptionStyleModel",
          "model_module_version": "1.5.0",
          "state": {
            "_model_module": "@jupyter-widgets/controls",
            "_model_module_version": "1.5.0",
            "_model_name": "DescriptionStyleModel",
            "_view_count": null,
            "_view_module": "@jupyter-widgets/base",
            "_view_module_version": "1.2.0",
            "_view_name": "StyleView",
            "description_width": ""
          }
        },
        "a70a13f3c5df40ca8878a645f402b251": {
          "model_module": "@jupyter-widgets/controls",
          "model_name": "HBoxModel",
          "model_module_version": "1.5.0",
          "state": {
            "_dom_classes": [],
            "_model_module": "@jupyter-widgets/controls",
            "_model_module_version": "1.5.0",
            "_model_name": "HBoxModel",
            "_view_count": null,
            "_view_module": "@jupyter-widgets/controls",
            "_view_module_version": "1.5.0",
            "_view_name": "HBoxView",
            "box_style": "",
            "children": [
              "IPY_MODEL_7ef3cbf531e442298beb75500f492eed",
              "IPY_MODEL_b45ed396a27d4ec8abcde5046158dc3e",
              "IPY_MODEL_09b2688e06e34d04bb57515950a234bc"
            ],
            "layout": "IPY_MODEL_791c97631e5942049a4978be5dd7569e"
          }
        },
        "7ef3cbf531e442298beb75500f492eed": {
          "model_module": "@jupyter-widgets/controls",
          "model_name": "HTMLModel",
          "model_module_version": "1.5.0",
          "state": {
            "_dom_classes": [],
            "_model_module": "@jupyter-widgets/controls",
            "_model_module_version": "1.5.0",
            "_model_name": "HTMLModel",
            "_view_count": null,
            "_view_module": "@jupyter-widgets/controls",
            "_view_module_version": "1.5.0",
            "_view_name": "HTMLView",
            "description": "",
            "description_tooltip": null,
            "layout": "IPY_MODEL_f8c2e8210fc643a6ab129a83cb3d4dec",
            "placeholder": "​",
            "style": "IPY_MODEL_cc90f97f1b7d492091ed8b273f1d717c",
            "value": "train-00000-of-00001.parquet: 100%"
          }
        },
        "b45ed396a27d4ec8abcde5046158dc3e": {
          "model_module": "@jupyter-widgets/controls",
          "model_name": "FloatProgressModel",
          "model_module_version": "1.5.0",
          "state": {
            "_dom_classes": [],
            "_model_module": "@jupyter-widgets/controls",
            "_model_module_version": "1.5.0",
            "_model_name": "FloatProgressModel",
            "_view_count": null,
            "_view_module": "@jupyter-widgets/controls",
            "_view_module_version": "1.5.0",
            "_view_name": "ProgressView",
            "bar_style": "success",
            "description": "",
            "description_tooltip": null,
            "layout": "IPY_MODEL_99e76db768a54bfc9ec9b55694b646ca",
            "max": 118518617,
            "min": 0,
            "orientation": "horizontal",
            "style": "IPY_MODEL_80dff2a4d7de4232a784fd66e9860e38",
            "value": 118518617
          }
        },
        "09b2688e06e34d04bb57515950a234bc": {
          "model_module": "@jupyter-widgets/controls",
          "model_name": "HTMLModel",
          "model_module_version": "1.5.0",
          "state": {
            "_dom_classes": [],
            "_model_module": "@jupyter-widgets/controls",
            "_model_module_version": "1.5.0",
            "_model_name": "HTMLModel",
            "_view_count": null,
            "_view_module": "@jupyter-widgets/controls",
            "_view_module_version": "1.5.0",
            "_view_name": "HTMLView",
            "description": "",
            "description_tooltip": null,
            "layout": "IPY_MODEL_d6e9c096dedb4402b8665fd765211f41",
            "placeholder": "​",
            "style": "IPY_MODEL_901c1e8c27fb40c99b7f7a64482631f2",
            "value": " 119M/119M [00:01&lt;00:00, 94.2MB/s]"
          }
        },
        "791c97631e5942049a4978be5dd7569e": {
          "model_module": "@jupyter-widgets/base",
          "model_name": "LayoutModel",
          "model_module_version": "1.2.0",
          "state": {
            "_model_module": "@jupyter-widgets/base",
            "_model_module_version": "1.2.0",
            "_model_name": "LayoutModel",
            "_view_count": null,
            "_view_module": "@jupyter-widgets/base",
            "_view_module_version": "1.2.0",
            "_view_name": "LayoutView",
            "align_content": null,
            "align_items": null,
            "align_self": null,
            "border": null,
            "bottom": null,
            "display": null,
            "flex": null,
            "flex_flow": null,
            "grid_area": null,
            "grid_auto_columns": null,
            "grid_auto_flow": null,
            "grid_auto_rows": null,
            "grid_column": null,
            "grid_gap": null,
            "grid_row": null,
            "grid_template_areas": null,
            "grid_template_columns": null,
            "grid_template_rows": null,
            "height": null,
            "justify_content": null,
            "justify_items": null,
            "left": null,
            "margin": null,
            "max_height": null,
            "max_width": null,
            "min_height": null,
            "min_width": null,
            "object_fit": null,
            "object_position": null,
            "order": null,
            "overflow": null,
            "overflow_x": null,
            "overflow_y": null,
            "padding": null,
            "right": null,
            "top": null,
            "visibility": null,
            "width": null
          }
        },
        "f8c2e8210fc643a6ab129a83cb3d4dec": {
          "model_module": "@jupyter-widgets/base",
          "model_name": "LayoutModel",
          "model_module_version": "1.2.0",
          "state": {
            "_model_module": "@jupyter-widgets/base",
            "_model_module_version": "1.2.0",
            "_model_name": "LayoutModel",
            "_view_count": null,
            "_view_module": "@jupyter-widgets/base",
            "_view_module_version": "1.2.0",
            "_view_name": "LayoutView",
            "align_content": null,
            "align_items": null,
            "align_self": null,
            "border": null,
            "bottom": null,
            "display": null,
            "flex": null,
            "flex_flow": null,
            "grid_area": null,
            "grid_auto_columns": null,
            "grid_auto_flow": null,
            "grid_auto_rows": null,
            "grid_column": null,
            "grid_gap": null,
            "grid_row": null,
            "grid_template_areas": null,
            "grid_template_columns": null,
            "grid_template_rows": null,
            "height": null,
            "justify_content": null,
            "justify_items": null,
            "left": null,
            "margin": null,
            "max_height": null,
            "max_width": null,
            "min_height": null,
            "min_width": null,
            "object_fit": null,
            "object_position": null,
            "order": null,
            "overflow": null,
            "overflow_x": null,
            "overflow_y": null,
            "padding": null,
            "right": null,
            "top": null,
            "visibility": null,
            "width": null
          }
        },
        "cc90f97f1b7d492091ed8b273f1d717c": {
          "model_module": "@jupyter-widgets/controls",
          "model_name": "DescriptionStyleModel",
          "model_module_version": "1.5.0",
          "state": {
            "_model_module": "@jupyter-widgets/controls",
            "_model_module_version": "1.5.0",
            "_model_name": "DescriptionStyleModel",
            "_view_count": null,
            "_view_module": "@jupyter-widgets/base",
            "_view_module_version": "1.2.0",
            "_view_name": "StyleView",
            "description_width": ""
          }
        },
        "99e76db768a54bfc9ec9b55694b646ca": {
          "model_module": "@jupyter-widgets/base",
          "model_name": "LayoutModel",
          "model_module_version": "1.2.0",
          "state": {
            "_model_module": "@jupyter-widgets/base",
            "_model_module_version": "1.2.0",
            "_model_name": "LayoutModel",
            "_view_count": null,
            "_view_module": "@jupyter-widgets/base",
            "_view_module_version": "1.2.0",
            "_view_name": "LayoutView",
            "align_content": null,
            "align_items": null,
            "align_self": null,
            "border": null,
            "bottom": null,
            "display": null,
            "flex": null,
            "flex_flow": null,
            "grid_area": null,
            "grid_auto_columns": null,
            "grid_auto_flow": null,
            "grid_auto_rows": null,
            "grid_column": null,
            "grid_gap": null,
            "grid_row": null,
            "grid_template_areas": null,
            "grid_template_columns": null,
            "grid_template_rows": null,
            "height": null,
            "justify_content": null,
            "justify_items": null,
            "left": null,
            "margin": null,
            "max_height": null,
            "max_width": null,
            "min_height": null,
            "min_width": null,
            "object_fit": null,
            "object_position": null,
            "order": null,
            "overflow": null,
            "overflow_x": null,
            "overflow_y": null,
            "padding": null,
            "right": null,
            "top": null,
            "visibility": null,
            "width": null
          }
        },
        "80dff2a4d7de4232a784fd66e9860e38": {
          "model_module": "@jupyter-widgets/controls",
          "model_name": "ProgressStyleModel",
          "model_module_version": "1.5.0",
          "state": {
            "_model_module": "@jupyter-widgets/controls",
            "_model_module_version": "1.5.0",
            "_model_name": "ProgressStyleModel",
            "_view_count": null,
            "_view_module": "@jupyter-widgets/base",
            "_view_module_version": "1.2.0",
            "_view_name": "StyleView",
            "bar_color": null,
            "description_width": ""
          }
        },
        "d6e9c096dedb4402b8665fd765211f41": {
          "model_module": "@jupyter-widgets/base",
          "model_name": "LayoutModel",
          "model_module_version": "1.2.0",
          "state": {
            "_model_module": "@jupyter-widgets/base",
            "_model_module_version": "1.2.0",
            "_model_name": "LayoutModel",
            "_view_count": null,
            "_view_module": "@jupyter-widgets/base",
            "_view_module_version": "1.2.0",
            "_view_name": "LayoutView",
            "align_content": null,
            "align_items": null,
            "align_self": null,
            "border": null,
            "bottom": null,
            "display": null,
            "flex": null,
            "flex_flow": null,
            "grid_area": null,
            "grid_auto_columns": null,
            "grid_auto_flow": null,
            "grid_auto_rows": null,
            "grid_column": null,
            "grid_gap": null,
            "grid_row": null,
            "grid_template_areas": null,
            "grid_template_columns": null,
            "grid_template_rows": null,
            "height": null,
            "justify_content": null,
            "justify_items": null,
            "left": null,
            "margin": null,
            "max_height": null,
            "max_width": null,
            "min_height": null,
            "min_width": null,
            "object_fit": null,
            "object_position": null,
            "order": null,
            "overflow": null,
            "overflow_x": null,
            "overflow_y": null,
            "padding": null,
            "right": null,
            "top": null,
            "visibility": null,
            "width": null
          }
        },
        "901c1e8c27fb40c99b7f7a64482631f2": {
          "model_module": "@jupyter-widgets/controls",
          "model_name": "DescriptionStyleModel",
          "model_module_version": "1.5.0",
          "state": {
            "_model_module": "@jupyter-widgets/controls",
            "_model_module_version": "1.5.0",
            "_model_name": "DescriptionStyleModel",
            "_view_count": null,
            "_view_module": "@jupyter-widgets/base",
            "_view_module_version": "1.2.0",
            "_view_name": "StyleView",
            "description_width": ""
          }
        },
        "6003a84e4e3c4eee85f8e4e7ba7d0190": {
          "model_module": "@jupyter-widgets/controls",
          "model_name": "HBoxModel",
          "model_module_version": "1.5.0",
          "state": {
            "_dom_classes": [],
            "_model_module": "@jupyter-widgets/controls",
            "_model_module_version": "1.5.0",
            "_model_name": "HBoxModel",
            "_view_count": null,
            "_view_module": "@jupyter-widgets/controls",
            "_view_module_version": "1.5.0",
            "_view_name": "HBoxView",
            "box_style": "",
            "children": [
              "IPY_MODEL_22cfe676e18740d1987aebf040b4e423",
              "IPY_MODEL_da6d10c3def5404187cde352c9c73edd",
              "IPY_MODEL_83146a6486184d2098430c44435369db"
            ],
            "layout": "IPY_MODEL_a61a8d878fe54bf49e790c9f0839ffb4"
          }
        },
        "22cfe676e18740d1987aebf040b4e423": {
          "model_module": "@jupyter-widgets/controls",
          "model_name": "HTMLModel",
          "model_module_version": "1.5.0",
          "state": {
            "_dom_classes": [],
            "_model_module": "@jupyter-widgets/controls",
            "_model_module_version": "1.5.0",
            "_model_name": "HTMLModel",
            "_view_count": null,
            "_view_module": "@jupyter-widgets/controls",
            "_view_module_version": "1.5.0",
            "_view_name": "HTMLView",
            "description": "",
            "description_tooltip": null,
            "layout": "IPY_MODEL_418b22b5e60540fea954f1a5968f60d4",
            "placeholder": "​",
            "style": "IPY_MODEL_b46fae13bbc04426b96da16a720a63f8",
            "value": "test-00000-of-00001.parquet: 100%"
          }
        },
        "da6d10c3def5404187cde352c9c73edd": {
          "model_module": "@jupyter-widgets/controls",
          "model_name": "FloatProgressModel",
          "model_module_version": "1.5.0",
          "state": {
            "_dom_classes": [],
            "_model_module": "@jupyter-widgets/controls",
            "_model_module_version": "1.5.0",
            "_model_name": "FloatProgressModel",
            "_view_count": null,
            "_view_module": "@jupyter-widgets/controls",
            "_view_module_version": "1.5.0",
            "_view_name": "ProgressView",
            "bar_style": "success",
            "description": "",
            "description_tooltip": null,
            "layout": "IPY_MODEL_f14176b40ee041f8add4db3899fbcda0",
            "max": 23772751,
            "min": 0,
            "orientation": "horizontal",
            "style": "IPY_MODEL_91604e751ff44adb8d53c8ec19c22a05",
            "value": 23772751
          }
        },
        "83146a6486184d2098430c44435369db": {
          "model_module": "@jupyter-widgets/controls",
          "model_name": "HTMLModel",
          "model_module_version": "1.5.0",
          "state": {
            "_dom_classes": [],
            "_model_module": "@jupyter-widgets/controls",
            "_model_module_version": "1.5.0",
            "_model_name": "HTMLModel",
            "_view_count": null,
            "_view_module": "@jupyter-widgets/controls",
            "_view_module_version": "1.5.0",
            "_view_name": "HTMLView",
            "description": "",
            "description_tooltip": null,
            "layout": "IPY_MODEL_62ff9b8dde59457bbd2f1d59d2601ebd",
            "placeholder": "​",
            "style": "IPY_MODEL_b609724452644f7ba80c604f5089a2ca",
            "value": " 23.8M/23.8M [00:00&lt;00:00, 78.7MB/s]"
          }
        },
        "a61a8d878fe54bf49e790c9f0839ffb4": {
          "model_module": "@jupyter-widgets/base",
          "model_name": "LayoutModel",
          "model_module_version": "1.2.0",
          "state": {
            "_model_module": "@jupyter-widgets/base",
            "_model_module_version": "1.2.0",
            "_model_name": "LayoutModel",
            "_view_count": null,
            "_view_module": "@jupyter-widgets/base",
            "_view_module_version": "1.2.0",
            "_view_name": "LayoutView",
            "align_content": null,
            "align_items": null,
            "align_self": null,
            "border": null,
            "bottom": null,
            "display": null,
            "flex": null,
            "flex_flow": null,
            "grid_area": null,
            "grid_auto_columns": null,
            "grid_auto_flow": null,
            "grid_auto_rows": null,
            "grid_column": null,
            "grid_gap": null,
            "grid_row": null,
            "grid_template_areas": null,
            "grid_template_columns": null,
            "grid_template_rows": null,
            "height": null,
            "justify_content": null,
            "justify_items": null,
            "left": null,
            "margin": null,
            "max_height": null,
            "max_width": null,
            "min_height": null,
            "min_width": null,
            "object_fit": null,
            "object_position": null,
            "order": null,
            "overflow": null,
            "overflow_x": null,
            "overflow_y": null,
            "padding": null,
            "right": null,
            "top": null,
            "visibility": null,
            "width": null
          }
        },
        "418b22b5e60540fea954f1a5968f60d4": {
          "model_module": "@jupyter-widgets/base",
          "model_name": "LayoutModel",
          "model_module_version": "1.2.0",
          "state": {
            "_model_module": "@jupyter-widgets/base",
            "_model_module_version": "1.2.0",
            "_model_name": "LayoutModel",
            "_view_count": null,
            "_view_module": "@jupyter-widgets/base",
            "_view_module_version": "1.2.0",
            "_view_name": "LayoutView",
            "align_content": null,
            "align_items": null,
            "align_self": null,
            "border": null,
            "bottom": null,
            "display": null,
            "flex": null,
            "flex_flow": null,
            "grid_area": null,
            "grid_auto_columns": null,
            "grid_auto_flow": null,
            "grid_auto_rows": null,
            "grid_column": null,
            "grid_gap": null,
            "grid_row": null,
            "grid_template_areas": null,
            "grid_template_columns": null,
            "grid_template_rows": null,
            "height": null,
            "justify_content": null,
            "justify_items": null,
            "left": null,
            "margin": null,
            "max_height": null,
            "max_width": null,
            "min_height": null,
            "min_width": null,
            "object_fit": null,
            "object_position": null,
            "order": null,
            "overflow": null,
            "overflow_x": null,
            "overflow_y": null,
            "padding": null,
            "right": null,
            "top": null,
            "visibility": null,
            "width": null
          }
        },
        "b46fae13bbc04426b96da16a720a63f8": {
          "model_module": "@jupyter-widgets/controls",
          "model_name": "DescriptionStyleModel",
          "model_module_version": "1.5.0",
          "state": {
            "_model_module": "@jupyter-widgets/controls",
            "_model_module_version": "1.5.0",
            "_model_name": "DescriptionStyleModel",
            "_view_count": null,
            "_view_module": "@jupyter-widgets/base",
            "_view_module_version": "1.2.0",
            "_view_name": "StyleView",
            "description_width": ""
          }
        },
        "f14176b40ee041f8add4db3899fbcda0": {
          "model_module": "@jupyter-widgets/base",
          "model_name": "LayoutModel",
          "model_module_version": "1.2.0",
          "state": {
            "_model_module": "@jupyter-widgets/base",
            "_model_module_version": "1.2.0",
            "_model_name": "LayoutModel",
            "_view_count": null,
            "_view_module": "@jupyter-widgets/base",
            "_view_module_version": "1.2.0",
            "_view_name": "LayoutView",
            "align_content": null,
            "align_items": null,
            "align_self": null,
            "border": null,
            "bottom": null,
            "display": null,
            "flex": null,
            "flex_flow": null,
            "grid_area": null,
            "grid_auto_columns": null,
            "grid_auto_flow": null,
            "grid_auto_rows": null,
            "grid_column": null,
            "grid_gap": null,
            "grid_row": null,
            "grid_template_areas": null,
            "grid_template_columns": null,
            "grid_template_rows": null,
            "height": null,
            "justify_content": null,
            "justify_items": null,
            "left": null,
            "margin": null,
            "max_height": null,
            "max_width": null,
            "min_height": null,
            "min_width": null,
            "object_fit": null,
            "object_position": null,
            "order": null,
            "overflow": null,
            "overflow_x": null,
            "overflow_y": null,
            "padding": null,
            "right": null,
            "top": null,
            "visibility": null,
            "width": null
          }
        },
        "91604e751ff44adb8d53c8ec19c22a05": {
          "model_module": "@jupyter-widgets/controls",
          "model_name": "ProgressStyleModel",
          "model_module_version": "1.5.0",
          "state": {
            "_model_module": "@jupyter-widgets/controls",
            "_model_module_version": "1.5.0",
            "_model_name": "ProgressStyleModel",
            "_view_count": null,
            "_view_module": "@jupyter-widgets/base",
            "_view_module_version": "1.2.0",
            "_view_name": "StyleView",
            "bar_color": null,
            "description_width": ""
          }
        },
        "62ff9b8dde59457bbd2f1d59d2601ebd": {
          "model_module": "@jupyter-widgets/base",
          "model_name": "LayoutModel",
          "model_module_version": "1.2.0",
          "state": {
            "_model_module": "@jupyter-widgets/base",
            "_model_module_version": "1.2.0",
            "_model_name": "LayoutModel",
            "_view_count": null,
            "_view_module": "@jupyter-widgets/base",
            "_view_module_version": "1.2.0",
            "_view_name": "LayoutView",
            "align_content": null,
            "align_items": null,
            "align_self": null,
            "border": null,
            "bottom": null,
            "display": null,
            "flex": null,
            "flex_flow": null,
            "grid_area": null,
            "grid_auto_columns": null,
            "grid_auto_flow": null,
            "grid_auto_rows": null,
            "grid_column": null,
            "grid_gap": null,
            "grid_row": null,
            "grid_template_areas": null,
            "grid_template_columns": null,
            "grid_template_rows": null,
            "height": null,
            "justify_content": null,
            "justify_items": null,
            "left": null,
            "margin": null,
            "max_height": null,
            "max_width": null,
            "min_height": null,
            "min_width": null,
            "object_fit": null,
            "object_position": null,
            "order": null,
            "overflow": null,
            "overflow_x": null,
            "overflow_y": null,
            "padding": null,
            "right": null,
            "top": null,
            "visibility": null,
            "width": null
          }
        },
        "b609724452644f7ba80c604f5089a2ca": {
          "model_module": "@jupyter-widgets/controls",
          "model_name": "DescriptionStyleModel",
          "model_module_version": "1.5.0",
          "state": {
            "_model_module": "@jupyter-widgets/controls",
            "_model_module_version": "1.5.0",
            "_model_name": "DescriptionStyleModel",
            "_view_count": null,
            "_view_module": "@jupyter-widgets/base",
            "_view_module_version": "1.2.0",
            "_view_name": "StyleView",
            "description_width": ""
          }
        }
      }
    }
  },
  "nbformat": 4,
  "nbformat_minor": 0
}